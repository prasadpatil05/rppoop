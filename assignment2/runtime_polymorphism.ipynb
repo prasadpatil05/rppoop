{
 "cells": [
  {
   "cell_type": "code",
   "execution_count": 1,
   "id": "1a1fd2c6",
   "metadata": {},
   "outputs": [
    {
     "name": "stdout",
     "output_type": "stream",
     "text": [
      "The area of the shape is 24.\n",
      "The area of the shape is 28.26.\n",
      "The area of the shape is 17.5.\n"
     ]
    }
   ],
   "source": [
    "#polymorphism runtime polymorphism method overriding \n",
    "class Shape:\n",
    "    def area(self):\n",
    "        pass\n",
    "\n",
    "class Rectangle(Shape):\n",
    "    def __init__(self, length, width):\n",
    "        self.length = length\n",
    "        self.width = width\n",
    "\n",
    "    def area(self):\n",
    "        return self.length * self.width\n",
    "\n",
    "class Circle(Shape):\n",
    "    def __init__(self, radius):\n",
    "        self.radius = radius\n",
    "\n",
    "    def area(self):\n",
    "        return 3.14 * self.radius ** 2\n",
    "\n",
    "class Triangle(Shape):\n",
    "    def __init__(self, base, height):\n",
    "        self.base = base\n",
    "        self.height = height\n",
    "\n",
    "    def area(self):\n",
    "        return 0.5 * self.base * self.height\n",
    "\n",
    "def print_area(shape):\n",
    "    print(f\"The area of the shape is {shape.area()}.\")\n",
    "\n",
    "my_rectangle = Rectangle(4, 6)\n",
    "my_circle = Circle(3)\n",
    "my_triangle = Triangle(5, 7)\n",
    "\n",
    "print_area(my_rectangle)  \n",
    "print_area(my_circle)     \n",
    "print_area(my_triangle)    \n"
   ]
  },
  {
   "cell_type": "code",
   "execution_count": null,
   "id": "5103102a",
   "metadata": {},
   "outputs": [],
   "source": []
  }
 ],
 "metadata": {
  "kernelspec": {
   "display_name": "Python 3 (ipykernel)",
   "language": "python",
   "name": "python3"
  },
  "language_info": {
   "codemirror_mode": {
    "name": "ipython",
    "version": 3
   },
   "file_extension": ".py",
   "mimetype": "text/x-python",
   "name": "python",
   "nbconvert_exporter": "python",
   "pygments_lexer": "ipython3",
   "version": "3.10.3"
  }
 },
 "nbformat": 4,
 "nbformat_minor": 5
}
