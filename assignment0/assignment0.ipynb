{
 "cells": [
  {
   "cell_type": "code",
   "execution_count": 3,
   "id": "5db3ecca",
   "metadata": {},
   "outputs": [
    {
     "name": "stdout",
     "output_type": "stream",
     "text": [
      "The area of the rectangle is 24.\n",
      "The perimeter of the rectangle is 20.\n",
      "The length of the rectangle is 5.\n",
      "The width of the rectangle is 7.\n"
     ]
    }
   ],
   "source": [
    "class Rectangle:\n",
    "    def __init__(self, length, width):\n",
    "        self.length = length\n",
    "        self.width = width\n",
    "    \n",
    "    def area(self):\n",
    "        return self.length * self.width\n",
    "    \n",
    "    def perimeter(self):\n",
    "        return 2 * (self.length + self.width)\n",
    "    \n",
    "    def change_dimensions(self, new_length, new_width):\n",
    "        self.length = new_length\n",
    "        self.width = new_width\n",
    "    \n",
    "    def report_dimensions(self):\n",
    "        print(f\"The length of the rectangle is {self.length}.\")\n",
    "        print(f\"The width of the rectangle is {self.width}.\")\n",
    "        \n",
    "my_rectangle = Rectangle(4, 6)\n",
    "\n",
    "print(f\"The area of the rectangle is {my_rectangle.area()}.\")   \n",
    "print(f\"The perimeter of the rectangle is {my_rectangle.perimeter()}.\")   \n",
    "\n",
    "my_rectangle.change_dimensions(5, 7)\n",
    "my_rectangle.report_dimensions()\n"
   ]
  },
  {
   "cell_type": "code",
   "execution_count": 4,
   "id": "250af9f0",
   "metadata": {},
   "outputs": [
    {
     "name": "stdout",
     "output_type": "stream",
     "text": [
      "The area of the rectangle is 24.\n",
      "The perimeter of the rectangle is 20.\n",
      "The polygon has 4 sides.\n",
      "The lengths of the sides are: 5, 7, 5, 7.\n",
      "The area of the square is 25.\n",
      "The perimeter of the square is 20.\n"
     ]
    }
   ],
   "source": [
    "class Polygon:\n",
    "    def __init__(self, sides):\n",
    "        self.sides = sides\n",
    "    \n",
    "    def perimeter(self):\n",
    "        return sum(self.sides)\n",
    "    \n",
    "    def change_dimensions(self, sides):\n",
    "        self.sides = sides\n",
    "    \n",
    "    def report_dimensions(self):\n",
    "        print(f\"The polygon has {len(self.sides)} sides.\")\n",
    "        print(f\"The lengths of the sides are: {', '.join(str(side) for side in self.sides)}.\")\n",
    "\n",
    "class Rectangle(Polygon):\n",
    "    def __init__(self, length, width):\n",
    "        super().__init__([length, width, length, width])\n",
    "    \n",
    "    def area(self):\n",
    "        return self.sides[0] * self.sides[1]\n",
    "\n",
    "class Square(Rectangle):\n",
    "    def __init__(self, side_length):\n",
    "        super().__init__(side_length, side_length)\n",
    "    \n",
    "    def area(self):\n",
    "        return self.sides[0] ** 2\n",
    "\n",
    "my_rectangle = Rectangle(4, 6)\n",
    "\n",
    "print(f\"The area of the rectangle is {my_rectangle.area()}.\")  \n",
    "print(f\"The perimeter of the rectangle is {my_rectangle.perimeter()}.\")  \n",
    "\n",
    "my_rectangle.change_dimensions([5, 7, 5, 7])\n",
    "my_rectangle.report_dimensions()\n",
    "my_square = Square(5)\n",
    "\n",
    "print(f\"The area of the square is {my_square.area()}.\")  \n",
    "print(f\"The perimeter of the square is {my_square.perimeter()}.\")  \n"
   ]
  },
  {
   "cell_type": "code",
   "execution_count": null,
   "id": "5f5b4d03",
   "metadata": {},
   "outputs": [],
   "source": []
  }
 ],
 "metadata": {
  "kernelspec": {
   "display_name": "Python 3 (ipykernel)",
   "language": "python",
   "name": "python3"
  },
  "language_info": {
   "codemirror_mode": {
    "name": "ipython",
    "version": 3
   },
   "file_extension": ".py",
   "mimetype": "text/x-python",
   "name": "python",
   "nbconvert_exporter": "python",
   "pygments_lexer": "ipython3",
   "version": "3.10.3"
  }
 },
 "nbformat": 4,
 "nbformat_minor": 5
}
